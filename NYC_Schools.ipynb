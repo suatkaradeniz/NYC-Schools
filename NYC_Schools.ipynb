{
 "cells": [
  {
   "cell_type": "markdown",
   "metadata": {},
   "source": [
    "# Analyzing NYC High School Data\n",
    "\n",
    "One of the most controversial issues in the U.S. educational system is the efficacy of standardized tests, and whether they're unfair to certain groups. Given our prior knowledge of this topic, in this project we decided to investigate the correlations between SAT scores and demographics and other elements that may correlate SAT scores with factors like race, gender, income, and more.\n",
    "\n",
    "The SAT, or Scholastic Aptitude Test, is an exam that U.S. high school students take before applying to college. Colleges take the test scores into account when deciding who to admit, so it's fairly important to perform well on it.\n",
    "\n",
    "The test consists of three sections, each of which has 800 possible points. The combined score is out of 2,400 possible points (while this number has changed a few times, the data set for our project is based on 2,400 total points). Organizations often rank high schools by their average SAT scores. The scores are also considered a measure of overall school district quality.\n",
    "\n",
    "New York City makes its data on high school SAT scores available online, as well as the demographics for each high school. The same website has several related data sets covering demographic information and test scores. Here are the links to all of the data sets we'll be using:\n",
    "\n",
    "* [SAT scores by school](https://data.cityofnewyork.us/Education/2012-SAT-Results/f9bf-2cp4) - SAT scores for each high school in New York City\n",
    "* [School attendance](https://data.cityofnewyork.us/Education/2010-2011-School-Attendance-and-Enrollment-Statist/7z8d-msnt) - Attendance information for each school in New York City\n",
    "* [Class size](https://data.cityofnewyork.us/Education/2010-2011-Class-Size-School-level-detail/urz7-pzb3) - Information on class size for each school\n",
    "* [AP test results](https://data.cityofnewyork.us/Education/2010-AP-College-Board-School-Level-Results/itfs-ms3e) - Advanced Placement (AP) exam results for each high school (passing an optional AP exam in a particular subject can earn a student college credit in that subject)\n",
    "* [Graduation outcomes](https://data.cityofnewyork.us/Education/2005-2010-Graduation-Outcomes-School-Level/vh2h-md7a) - The percentage of students who graduated, and other outcome information\n",
    "* [Demographics](https://data.cityofnewyork.us/Education/2006-2012-School-Demographics-and-Accountability-S/ihfw-zy9j) - Demographic information for each school\n",
    "* [School survey](https://data.cityofnewyork.us/Education/2011-NYC-School-Survey/mnz3-dyi8) - Surveys of parents, teachers, and students at each school\n",
    "* [Home prices](https://www.kaggle.com/new-york-city/nyc-property-sales) - A record of every building or building unit (apartment, etc.) sold in the New York City property market over a 12-month period.\n",
    "\n",
    "All of these data sets are interrelated. We'll need to combine them into a single data set before we can find correlations. But at first we will tackle the essential part of data exploration : \n",
    "* data cleaning and \n",
    "* handling missing data  \n"
   ]
  },
  {
   "cell_type": "markdown",
   "metadata": {},
   "source": [
    "# Read in the data"
   ]
  },
  {
   "cell_type": "code",
   "execution_count": 1,
   "metadata": {},
   "outputs": [],
   "source": [
    "import pandas as pd\n",
    "import numpy as np\n",
    "import re\n",
    "import seaborn as sns\n",
    "\n",
    "import warnings\n",
    "warnings.filterwarnings(\"ignore\", category=UserWarning)\n",
    "warnings.filterwarnings(\"ignore\", category=FutureWarning)\n",
    "\n",
    "data_files = [\n",
    "    \"ap_2010.csv\",\n",
    "    \"class_size.csv\",\n",
    "    \"demographics.csv\",\n",
    "    \"graduation.csv\",\n",
    "    \"hs_directory.csv\",\n",
    "    \"sat_results.csv\"\n",
    "]\n",
    "\n",
    "data = {}\n",
    "\n",
    "for f in data_files:\n",
    "    d = pd.read_csv(f)\n",
    "    data[f.replace(\".csv\", \"\")] = d"
   ]
  },
  {
   "cell_type": "markdown",
   "metadata": {},
   "source": [
    "# Read in the surveys"
   ]
  },
  {
   "cell_type": "code",
   "execution_count": 2,
   "metadata": {},
   "outputs": [],
   "source": [
    "all_survey = pd.read_csv(\"survey_all.txt\", delimiter=\"\\t\", encoding='windows-1252')\n",
    "d75_survey = pd.read_csv(\"survey_d75.txt\", delimiter=\"\\t\", encoding='windows-1252')\n",
    "survey = pd.concat([all_survey, d75_survey], axis=0)\n",
    "\n",
    "survey[\"DBN\"] = survey[\"dbn\"]\n",
    "\n",
    "survey_fields = [\n",
    "    \"DBN\", \n",
    "    \"rr_s\", \n",
    "    \"rr_t\", \n",
    "    \"rr_p\", \n",
    "    \"N_s\", \n",
    "    \"N_t\", \n",
    "    \"N_p\", \n",
    "    \"saf_p_11\", \n",
    "    \"com_p_11\", \n",
    "    \"eng_p_11\", \n",
    "    \"aca_p_11\", \n",
    "    \"saf_t_11\", \n",
    "    \"com_t_11\", \n",
    "    \"eng_t_11\", \n",
    "    \"aca_t_11\", \n",
    "    \"saf_s_11\", \n",
    "    \"com_s_11\", \n",
    "    \"eng_s_11\", \n",
    "    \"aca_s_11\", \n",
    "    \"saf_tot_11\", \n",
    "    \"com_tot_11\", \n",
    "    \"eng_tot_11\", \n",
    "    \"aca_tot_11\",\n",
    "]\n",
    "survey = survey.loc[:,survey_fields]\n",
    "data[\"survey\"] = survey"
   ]
  },
  {
   "cell_type": "markdown",
   "metadata": {},
   "source": [
    "# Add DBN columns"
   ]
  },
  {
   "cell_type": "code",
   "execution_count": 3,
   "metadata": {},
   "outputs": [],
   "source": [
    "data[\"hs_directory\"][\"DBN\"] = data[\"hs_directory\"][\"dbn\"]\n",
    "\n",
    "def pad_csd(num):\n",
    "    string_representation = str(num)\n",
    "    if len(string_representation) > 1:\n",
    "        return string_representation\n",
    "    else:\n",
    "        return \"0\" + string_representation\n",
    "    \n",
    "data[\"class_size\"][\"padded_csd\"] = data[\"class_size\"][\"CSD\"].apply(pad_csd)\n",
    "data[\"class_size\"][\"DBN\"] = data[\"class_size\"][\"padded_csd\"] + data[\"class_size\"][\"SCHOOL CODE\"]"
   ]
  },
  {
   "cell_type": "markdown",
   "metadata": {},
   "source": [
    "# Convert columns to numeric"
   ]
  },
  {
   "cell_type": "code",
   "execution_count": 4,
   "metadata": {},
   "outputs": [],
   "source": [
    "cols = ['SAT Math Avg. Score', 'SAT Critical Reading Avg. Score', 'SAT Writing Avg. Score']\n",
    "for c in cols:\n",
    "    data[\"sat_results\"][c] = pd.to_numeric(data[\"sat_results\"][c], errors=\"coerce\")\n",
    "\n",
    "data['sat_results']['sat_score'] = data['sat_results'][cols[0]] + data['sat_results'][cols[1]] + data['sat_results'][cols[2]]\n",
    "\n",
    "def find_lat(loc):\n",
    "    coords = re.findall(\"\\(.+, .+\\)\", loc)\n",
    "    lat = coords[0].split(\",\")[0].replace(\"(\", \"\")\n",
    "    return lat\n",
    "\n",
    "def find_lon(loc):\n",
    "    coords = re.findall(\"\\(.+, .+\\)\", loc)\n",
    "    lon = coords[0].split(\",\")[1].replace(\")\", \"\").strip()\n",
    "    return lon\n",
    "\n",
    "data[\"hs_directory\"][\"lat\"] = data[\"hs_directory\"][\"Location 1\"].apply(find_lat)\n",
    "data[\"hs_directory\"][\"lon\"] = data[\"hs_directory\"][\"Location 1\"].apply(find_lon)\n",
    "\n",
    "data[\"hs_directory\"][\"lat\"] = pd.to_numeric(data[\"hs_directory\"][\"lat\"], errors=\"coerce\")\n",
    "data[\"hs_directory\"][\"lon\"] = pd.to_numeric(data[\"hs_directory\"][\"lon\"], errors=\"coerce\")"
   ]
  },
  {
   "cell_type": "markdown",
   "metadata": {},
   "source": [
    "# Condense datasets"
   ]
  },
  {
   "cell_type": "code",
   "execution_count": 5,
   "metadata": {},
   "outputs": [],
   "source": [
    "class_size = data[\"class_size\"]\n",
    "class_size = class_size[class_size[\"GRADE \"] == \"09-12\"]\n",
    "class_size = class_size[class_size[\"PROGRAM TYPE\"] == \"GEN ED\"]\n",
    "\n",
    "class_size = class_size.groupby(\"DBN\").agg(np.mean)\n",
    "class_size.reset_index(inplace=True)\n",
    "data[\"class_size\"] = class_size\n",
    "\n",
    "data[\"demographics\"] = data[\"demographics\"][data[\"demographics\"][\"schoolyear\"] == 20112012]\n",
    "\n",
    "data[\"graduation\"] = data[\"graduation\"][data[\"graduation\"][\"Cohort\"] == \"2006\"]\n",
    "data[\"graduation\"] = data[\"graduation\"][data[\"graduation\"][\"Demographic\"] == \"Total Cohort\"]"
   ]
  },
  {
   "cell_type": "markdown",
   "metadata": {},
   "source": [
    "# Convert AP scores to numeric"
   ]
  },
  {
   "cell_type": "code",
   "execution_count": 6,
   "metadata": {},
   "outputs": [],
   "source": [
    "cols = ['AP Test Takers ', 'Total Exams Taken', 'Number of Exams with scores 3 4 or 5']\n",
    "\n",
    "for col in cols:\n",
    "    data[\"ap_2010\"][col] = pd.to_numeric(data[\"ap_2010\"][col], errors=\"coerce\")"
   ]
  },
  {
   "cell_type": "markdown",
   "metadata": {},
   "source": [
    "# Combine the datasets"
   ]
  },
  {
   "cell_type": "code",
   "execution_count": 7,
   "metadata": {},
   "outputs": [],
   "source": [
    "combined = data[\"sat_results\"]\n",
    "\n",
    "combined = combined.merge(data[\"ap_2010\"], on=\"DBN\", how=\"left\")\n",
    "combined = combined.merge(data[\"graduation\"], on=\"DBN\", how=\"left\")\n",
    "\n",
    "to_merge = [\"class_size\", \"demographics\", \"survey\", \"hs_directory\"]\n",
    "\n",
    "for m in to_merge:\n",
    "    combined = combined.merge(data[m], on=\"DBN\", how=\"inner\")\n",
    "\n",
    "combined = combined.fillna(combined.mean())\n",
    "combined = combined.fillna(0)"
   ]
  },
  {
   "cell_type": "markdown",
   "metadata": {},
   "source": [
    "# Add a school district column for mapping"
   ]
  },
  {
   "cell_type": "code",
   "execution_count": 8,
   "metadata": {},
   "outputs": [],
   "source": [
    "def get_first_two_chars(dbn):\n",
    "    return dbn[0:2]\n",
    "\n",
    "combined[\"school_dist\"] = combined[\"DBN\"].apply(get_first_two_chars)"
   ]
  },
  {
   "cell_type": "markdown",
   "metadata": {},
   "source": [
    "# Find correlations"
   ]
  },
  {
   "cell_type": "code",
   "execution_count": 9,
   "metadata": {},
   "outputs": [
    {
     "name": "stdout",
     "output_type": "stream",
     "text": [
      "SAT Critical Reading Avg. Score    0.986820\n",
      "SAT Math Avg. Score                0.972643\n",
      "SAT Writing Avg. Score             0.987771\n",
      "sat_score                          1.000000\n",
      "AP Test Takers                     0.523140\n",
      "                                     ...   \n",
      "priority08                              NaN\n",
      "priority09                              NaN\n",
      "priority10                              NaN\n",
      "lat                               -0.121029\n",
      "lon                               -0.132222\n",
      "Name: sat_score, Length: 67, dtype: float64\n"
     ]
    }
   ],
   "source": [
    "correlations = combined.corr()\n",
    "correlations = correlations[\"sat_score\"]\n",
    "print(correlations)"
   ]
  },
  {
   "cell_type": "markdown",
   "metadata": {},
   "source": [
    "# Plotting survey correlations"
   ]
  },
  {
   "cell_type": "code",
   "execution_count": 10,
   "metadata": {},
   "outputs": [],
   "source": [
    "# Remove DBN since it's a unique identifier, not a useful numerical value for correlation.\n",
    "survey_fields.remove(\"DBN\")"
   ]
  },
  {
   "cell_type": "code",
   "execution_count": 11,
   "metadata": {},
   "outputs": [],
   "source": [
    "#Set up matplotlib to work in Jupyter notebook.\n",
    "import matplotlib.pyplot as plt\n",
    "%matplotlib inline "
   ]
  },
  {
   "cell_type": "code",
   "execution_count": 12,
   "metadata": {},
   "outputs": [],
   "source": [
    "# a list of survey fields and sat_score\n",
    "survey_fields.append('sat_score')\n"
   ]
  },
  {
   "cell_type": "code",
   "execution_count": 13,
   "metadata": {},
   "outputs": [
    {
     "data": {
      "text/plain": [
       "([], <a list of 0 Text xticklabel objects>)"
      ]
     },
     "execution_count": 13,
     "metadata": {},
     "output_type": "execute_result"
    },
    {
     "data": {
      "image/png": "[encoded data removed]",
      "text/plain": [
       "<Figure size 432x288 with 1 Axes>"
      ]
     },
     "metadata": {
      "needs_background": "light"
     },
     "output_type": "display_data"
    }
   ],
   "source": [
    "# Correlations between SAT scores and survey fields\n",
    "sat_score_corr_surveys=combined[survey_fields].corr().iloc[-1:,:-1]\n",
    "sat_score_corr_surveys.T\n",
    "sat_score_corr_surveys.plot(kind='bar').legend(bbox_to_anchor=(1.5,1))\n",
    "plt.title('SAT Scores and Survey Field Correlations', color='black')\n",
    "plt.xlabel('SAT Scores')\n",
    "plt.xticks([], [])"
   ]
  },
  {
   "cell_type": "markdown",
   "metadata": {},
   "source": [
    "We will consider a Pearson correlation coefficient value r as statistically important if r turns out to be  bigger than 0.3 and less than -0.3.\n",
    "While the correlations between SAT Scores and number of student respondents, SAT Scores and number of parent respondents are at a moderate level, interestingly  number of teacher respondents has weaker association with SAT Scores.\n",
    "Safety and respect scores given by students and teaches and their totals are positively linked to SAT Scores. Finally we can observe a positive association between academic expectation scores based on student responds and SAT Scores. \n",
    "On the other hand, academic expectation scores based on teacher responds seem irrelevant. \n"
   ]
  },
  {
   "cell_type": "code",
   "execution_count": 14,
   "metadata": {},
   "outputs": [
    {
     "data": {
      "text/plain": [
       "Text(0.5, 0, 'Safety Scores by Students')"
      ]
     },
     "execution_count": 14,
     "metadata": {},
     "output_type": "execute_result"
    },
    {
     "data": {
      "image/png": "[encoded data removed]",
      "text/plain": [
       "<Figure size 432x288 with 1 Axes>"
      ]
     },
     "metadata": {
      "needs_background": "light"
     },
     "output_type": "display_data"
    }
   ],
   "source": [
    "#  A scatter plot of the safety scores vs. the sat_score \n",
    "#  with the regression line\n",
    "sns.regplot(combined['saf_s_11'],combined['sat_score'])\n",
    "# combined.plot(kind='scatter', x='saf_s_11',y='sat_score')\n",
    "plt.xlabel('Safety Scores by Students')\n",
    "# plt.xticks([], [])"
   ]
  },
  {
   "cell_type": "markdown",
   "metadata": {},
   "source": [
    "As easily can be seen from the scatter plot and regression line, SAT Scores and safety scores based on student answers are highly correlated."
   ]
  },
  {
   "cell_type": "code",
   "execution_count": 15,
   "metadata": {},
   "outputs": [
    {
     "name": "stdout",
     "output_type": "stream",
     "text": [
      "   school_dist    SAT Score  Safety Score        lon        lat\n",
      "0           01  1354.500000      6.768611 -73.982377  40.719022\n",
      "1           02  1295.638184      6.910660 -73.991386  40.739699\n",
      "2           03  1293.443035      6.716667 -73.977370  40.781574\n",
      "3           04  1224.142857      6.885714 -73.943215  40.793449\n",
      "4           05  1285.062687      6.314286 -73.949251  40.817077\n",
      "5           06  1164.643881      6.950000 -73.932502  40.848970\n",
      "6           07  1128.846154      6.800000 -73.919971  40.816815\n",
      "7           08  1159.665129      6.364697 -73.866087  40.823803\n",
      "8           09  1131.971940      6.655000 -73.906240  40.836349\n",
      "9           10  1222.227273      6.577273 -73.898360  40.870345\n",
      "10          11  1165.000000      6.186667 -73.856120  40.873138\n",
      "11          12  1101.823134      7.116667 -73.886946  40.831412\n",
      "12          13  1237.187600      6.407692 -73.977016  40.692865\n",
      "13          14  1179.459915      6.685714 -73.948360  40.711599\n",
      "14          15  1190.604312      6.177778 -73.989255  40.675972\n",
      "15          16  1120.109701      5.875000 -73.929686  40.688008\n",
      "16          17  1161.428571      6.007143 -73.955636  40.660313\n",
      "17          18  1118.000000      6.190909 -73.914726  40.641863\n",
      "18          19  1103.833333      6.150000 -73.882158  40.676547\n",
      "19          20  1273.687761      7.120000 -74.006191  40.626751\n",
      "20          21  1206.312619      6.390909 -73.978465  40.593596\n",
      "21          22  1450.500000      7.025000 -73.952288  40.618285\n",
      "22          23  1157.333333      6.233333 -73.912298  40.668586\n",
      "23          24  1242.000000      7.107692 -73.911518  40.740621\n",
      "24          25  1357.000000      6.912500 -73.815558  40.745414\n",
      "25          26  1377.600000      6.760000 -73.759176  40.748507\n",
      "26          27  1224.300000      6.390000 -73.807823  40.638828\n",
      "27          28  1347.846947      6.627273 -73.806367  40.709344\n",
      "28          29  1181.929851      6.075000 -73.752740  40.685276\n",
      "29          30  1326.382090      7.033333 -73.932306  40.755398\n",
      "30          31  1382.500000      6.530000 -74.125726  40.595680\n",
      "31          32  1119.500000      6.766667 -73.917124  40.696295\n"
     ]
    }
   ],
   "source": [
    "# Compute the average SAT Score and Safety Score for each district.\n",
    "districts=combined.groupby('school_dist')[['sat_score','saf_s_11','lon','lat']].\\\n",
    "agg(np.mean).rename(columns=\\\n",
    "                    {'sat_score':'SAT Score','saf_s_11':'Safety Score'})\n",
    "districts.reset_index(inplace=True)\n",
    "print(districts)"
   ]
  },
  {
   "cell_type": "code",
   "execution_count": 16,
   "metadata": {},
   "outputs": [
    {
     "data": {
      "image/png": "[encoded data removed]",
      "text/plain": [
       "<Figure size 432x288 with 1 Axes>"
      ]
     },
     "metadata": {},
     "output_type": "display_data"
    }
   ],
   "source": [
    "# Map out safety scores by district\n",
    "\n",
    "import os\n",
    "os.environ['PROJ_LIB'] = r'C:\\Users\\MIQDAD\\Anaconda3\\pkgs\\proj4-5.2.0-ha925a31_1\\Library\\share'\n",
    "from mpl_toolkits.basemap import Basemap\n",
    "import matplotlib.pyplot as plt\n",
    "\n",
    "try:\n",
    "    from inspect import cleandoc as dedent\n",
    "except ImportError:\n",
    "    # Deprecated as of version 3.1. Not quite the same\n",
    "    # as textwrap.dedent.\n",
    "    from matplotlib.cbook import dedent\n",
    "    \n",
    "m = Basemap(\n",
    "    projection='merc', \n",
    "    llcrnrlat=40.496044, \n",
    "    urcrnrlat=40.915256, \n",
    "    llcrnrlon=-74.255735, \n",
    "    urcrnrlon=-73.700272,\n",
    "    resolution='i'\n",
    ")\n",
    "\n",
    "m.drawmapboundary(fill_color='#85A6D9')\n",
    "m.drawcoastlines(color='#6D5F47', linewidth=.4)\n",
    "m.drawrivers(color='#6D5F47', linewidth=.4)\n",
    "longitudes=districts['lon'].tolist()\n",
    "latitudes=districts['lat'].tolist()\n",
    "m.scatter(longitudes,latitudes,s=50,zorder=2,latlon=True,\\\n",
    "          c=districts[\"Safety Score\"],cmap=\"summer\") \n",
    "\n",
    "plt.show()"
   ]
  },
  {
   "cell_type": "markdown",
   "metadata": {},
   "source": [
    "When we look at SAT Score  and Safety score averages for each district, the association is obvious. When safety score averages are mapped  by district, the south districts seem less safe. Note that yellow points indicate high safety and green dots denote lower safety score averages. "
   ]
  },
  {
   "cell_type": "markdown",
   "metadata": {},
   "source": [
    "### Racial differences in SAT scores"
   ]
  },
  {
   "cell_type": "code",
   "execution_count": 17,
   "metadata": {},
   "outputs": [
    {
     "data": {
      "text/plain": [
       "([], <a list of 0 Text xticklabel objects>)"
      ]
     },
     "execution_count": 17,
     "metadata": {},
     "output_type": "execute_result"
    },
    {
     "data": {
      "image/png": "[encoded data removed]",
      "text/plain": [
       "<Figure size 432x288 with 1 Axes>"
      ]
     },
     "metadata": {
      "needs_background": "light"
     },
     "output_type": "display_data"
    }
   ],
   "source": [
    "# Columns list containing races percantages and SAT score \n",
    "race_per=['white_per'\n",
    ",'asian_per'\n",
    ",'black_per'\n",
    ",'hispanic_per','sat_score']\n",
    "\n",
    "# Correlations between SAT scores and Races\n",
    "sat_score_corr_races=combined[race_per].corr().iloc[-1:,:-1]\n",
    "sat_score_corr_races.T\n",
    "\n",
    "# Bar graph of corrrelations between SAT Scores and Race percentages\n",
    "sat_score_corr_races.plot(kind='bar').legend(bbox_to_anchor=(1,1))\n",
    "plt.title('Racial differences in SAT scores', color='black')\n",
    "plt.xlabel('SAT Scores')\n",
    "plt.xticks([], [])\n"
   ]
  },
  {
   "cell_type": "markdown",
   "metadata": {},
   "source": [
    "By looking at the bar graph of the correlations between SAT Scores and races percentages. it can be deduced that on average  white and asian students get higher scores on the test than black and hispanic students.\n",
    "The strong negative association with hispanic student percentage is quite salient."
   ]
  },
  {
   "cell_type": "code",
   "execution_count": 18,
   "metadata": {},
   "outputs": [
    {
     "data": {
      "text/plain": [
       "Text(0.5, 0, 'Hispanic Student Percentage')"
      ]
     },
     "execution_count": 18,
     "metadata": {},
     "output_type": "execute_result"
    },
    {
     "data": {
      "image/png": "[encoded data removed]",
      "text/plain": [
       "<Figure size 432x288 with 1 Axes>"
      ]
     },
     "metadata": {
      "needs_background": "light"
     },
     "output_type": "display_data"
    }
   ],
   "source": [
    "#  A scatter plot of the hispanic percentage vs. the sat_score \n",
    "#  with the regression line\n",
    "sns.regplot(combined['hispanic_per'],combined['sat_score'])\n",
    "plt.xlabel('Hispanic Student Percentage')\n",
    "#plt.xticks([], [])"
   ]
  },
  {
   "cell_type": "markdown",
   "metadata": {},
   "source": [
    "The scatter plot of hispanic student percentage and SAT Score also justifies our previous observation."
   ]
  },
  {
   "cell_type": "code",
   "execution_count": 19,
   "metadata": {},
   "outputs": [
    {
     "data": {
      "text/plain": [
       "44                         MANHATTAN BRIDGES HIGH SCHOOL\n",
       "82      WASHINGTON HEIGHTS EXPEDITIONARY LEARNING SCHOOL\n",
       "89     GREGORIO LUPERON HIGH SCHOOL FOR SCIENCE AND M...\n",
       "125                  ACADEMY FOR LANGUAGE AND TECHNOLOGY\n",
       "141                INTERNATIONAL SCHOOL FOR LIBERAL ARTS\n",
       "176     PAN AMERICAN INTERNATIONAL HIGH SCHOOL AT MONROE\n",
       "253                            MULTICULTURAL HIGH SCHOOL\n",
       "286               PAN AMERICAN INTERNATIONAL HIGH SCHOOL\n",
       "Name: SCHOOL NAME, dtype: object"
      ]
     },
     "execution_count": 19,
     "metadata": {},
     "output_type": "execute_result"
    }
   ],
   "source": [
    "# List of schools with very high hispanic student population\n",
    "combined[combined['hispanic_per']>95]['SCHOOL NAME']"
   ]
  },
  {
   "cell_type": "markdown",
   "metadata": {},
   "source": [
    "In NYC, only 8 high schools have hispanic student population above 95%. \n",
    "After a quick google search, we see that only one school is in within top 1000 national rankings based on their performance on state-required tests, graduation and how well they prepare students for college.\n",
    "* Manhattan Bridges High School is ranked #363 in the National Rankings.\n",
    "* Multicultural High School is ranked #12,555 in the National Rankings.\n",
    "* Pan American International High School is ranked #3,013 in the National Rankings.\n",
    "* Academy for Language and Technology is ranked #1,040 in the National Rankings.\n",
    "* Gregorio Luperon High SchoolFor Science and Mathemat is ranked #2,955 in the National Rankings.\n",
    "* Pan American International High School at Monroe is ranked #1,075 in the National Rankings.\n",
    "* International School for Liberal Arts is ranked #2,401 in the National Rankings.\n",
    "* Academy for Language and Technology is ranked #1,040 in the National Rankings.\n",
    "\n"
   ]
  },
  {
   "cell_type": "code",
   "execution_count": 20,
   "metadata": {},
   "outputs": [
    {
     "data": {
      "text/plain": [
       "37                                STUYVESANT HIGH SCHOOL\n",
       "151                         BRONX HIGH SCHOOL OF SCIENCE\n",
       "187                       BROOKLYN TECHNICAL HIGH SCHOOL\n",
       "327    QUEENS HIGH SCHOOL FOR THE SCIENCES AT YORK CO...\n",
       "356                  STATEN ISLAND TECHNICAL HIGH SCHOOL\n",
       "Name: SCHOOL NAME, dtype: object"
      ]
     },
     "execution_count": 20,
     "metadata": {},
     "output_type": "execute_result"
    }
   ],
   "source": [
    "# Schools with a hispanic_per less than 10% and \n",
    "# an average SAT score greater than 1800.\n",
    "combined[(combined['hispanic_per']<10) & (combined['sat_score']>1800)]['SCHOOL NAME']"
   ]
  },
  {
   "cell_type": "markdown",
   "metadata": {},
   "source": [
    "When filtered the schools dataframe with criteria hispanic population less than 10% and average SAT score of 1800, only five scholls show up. After  a quick research, we obtain the following striking info:\n",
    "* Stuyvesant High School is ranked #25 in the National Rankings\n",
    "* Bronx High School of Science is ranked #36 in the National Rankings.\n",
    "* Brooklyn Technical High School is ranked #47 in the National Rankings.\n",
    "* Queens High School for the Sciences at York College is ranked #28 in the National Rankings.\n",
    "* Staten Island Technical High School is ranked #35 in the National Rankings.\n"
   ]
  },
  {
   "cell_type": "markdown",
   "metadata": {},
   "source": [
    "### Gender differences in SAT scores"
   ]
  },
  {
   "cell_type": "code",
   "execution_count": 21,
   "metadata": {},
   "outputs": [
    {
     "data": {
      "text/html": [
       "<div>\n",
       "<style scoped>\n",
       "    .dataframe tbody tr th:only-of-type {\n",
       "        vertical-align: middle;\n",
       "    }\n",
       "\n",
       "    .dataframe tbody tr th {\n",
       "        vertical-align: top;\n",
       "    }\n",
       "\n",
       "    .dataframe thead th {\n",
       "        text-align: right;\n",
       "    }\n",
       "</style>\n",
       "<table border=\"1\" class=\"dataframe\">\n",
       "  <thead>\n",
       "    <tr style=\"text-align: right;\">\n",
       "      <th></th>\n",
       "      <th>sat_score</th>\n",
       "    </tr>\n",
       "  </thead>\n",
       "  <tbody>\n",
       "    <tr>\n",
       "      <td>female_per</td>\n",
       "      <td>0.112108</td>\n",
       "    </tr>\n",
       "    <tr>\n",
       "      <td>male_per</td>\n",
       "      <td>-0.112062</td>\n",
       "    </tr>\n",
       "  </tbody>\n",
       "</table>\n",
       "</div>"
      ],
      "text/plain": [
       "            sat_score\n",
       "female_per   0.112108\n",
       "male_per    -0.112062"
      ]
     },
     "execution_count": 21,
     "metadata": {},
     "output_type": "execute_result"
    }
   ],
   "source": [
    "# Columns list with gender percentages and SAT score \n",
    "gender_per=['female_per'\n",
    ",'male_per'\n",
    ",'sat_score']\n",
    "\n",
    "# Correlations between SAT scores and Genders\n",
    "sat_score_corr_genders=combined[gender_per].corr().iloc[-1:,:-1]\n",
    "sat_score_corr_genders.T\n",
    "\n"
   ]
  },
  {
   "cell_type": "code",
   "execution_count": 22,
   "metadata": {},
   "outputs": [
    {
     "data": {
      "text/plain": [
       "([], <a list of 0 Text xticklabel objects>)"
      ]
     },
     "execution_count": 22,
     "metadata": {},
     "output_type": "execute_result"
    },
    {
     "data": {
      "image/png": "[encoded data removed]",
      "text/plain": [
       "<Figure size 432x288 with 1 Axes>"
      ]
     },
     "metadata": {
      "needs_background": "light"
     },
     "output_type": "display_data"
    }
   ],
   "source": [
    "# Bar graph of corrrelations between SAT Scores and Genders\n",
    "sat_score_corr_genders.plot(kind='bar').legend(bbox_to_anchor=(1,1))\n",
    "plt.title('Gender differences in SAT scores', color='black')\n",
    "plt.xlabel('SAT Scores')\n",
    "plt.xticks([], [])"
   ]
  },
  {
   "cell_type": "markdown",
   "metadata": {},
   "source": [
    "The correlation between the SAT Scores and gender percentages is weak. But we observe a slight\n",
    "positive association gender proportion and the test scores.\n",
    "It looks like the gender make-up of the school does not play a big role on SAT scores."
   ]
  },
  {
   "cell_type": "code",
   "execution_count": 23,
   "metadata": {},
   "outputs": [
    {
     "data": {
      "text/plain": [
       "Text(0.5, 0, 'Female Percentage')"
      ]
     },
     "execution_count": 23,
     "metadata": {},
     "output_type": "execute_result"
    },
    {
     "data": {
      "image/png": "[encoded data removed]",
      "text/plain": [
       "<Figure size 432x288 with 1 Axes>"
      ]
     },
     "metadata": {
      "needs_background": "light"
     },
     "output_type": "display_data"
    }
   ],
   "source": [
    "# Schools with SAT scores higher than 1200 and more female students.\n",
    "\n",
    "more_fem_high_SAT=combined[(combined['female_per']>50) & \\\n",
    "                           (combined['sat_score']>1200)]\n",
    "\n",
    "#  A scatter plot of the female percentage vs. the sat_score \n",
    "#  with the regression line\n",
    "sns.regplot(more_fem_high_SAT['female_per'],more_fem_high_SAT['sat_score'])\n",
    "plt.xlabel('Female Percentage')\n",
    "#plt.xticks([], [])"
   ]
  },
  {
   "cell_type": "markdown",
   "metadata": {},
   "source": [
    "The scatter plot also supports our earlier finding.\n",
    "The regression line is almost flat which indicates that there is not a significant association between the columns."
   ]
  },
  {
   "cell_type": "code",
   "execution_count": 24,
   "metadata": {},
   "outputs": [
    {
     "data": {
      "text/html": [
       "<div>\n",
       "<style scoped>\n",
       "    .dataframe tbody tr th:only-of-type {\n",
       "        vertical-align: middle;\n",
       "    }\n",
       "\n",
       "    .dataframe tbody tr th {\n",
       "        vertical-align: top;\n",
       "    }\n",
       "\n",
       "    .dataframe thead th {\n",
       "        text-align: right;\n",
       "    }\n",
       "</style>\n",
       "<table border=\"1\" class=\"dataframe\">\n",
       "  <thead>\n",
       "    <tr style=\"text-align: right;\">\n",
       "      <th></th>\n",
       "      <th>DBN</th>\n",
       "      <th>SCHOOL NAME</th>\n",
       "      <th>Num of SAT Test Takers</th>\n",
       "      <th>SAT Critical Reading Avg. Score</th>\n",
       "      <th>SAT Math Avg. Score</th>\n",
       "      <th>SAT Writing Avg. Score</th>\n",
       "      <th>sat_score</th>\n",
       "      <th>SchoolName</th>\n",
       "      <th>AP Test Takers</th>\n",
       "      <th>Total Exams Taken</th>\n",
       "      <th>...</th>\n",
       "      <th>priority05</th>\n",
       "      <th>priority06</th>\n",
       "      <th>priority07</th>\n",
       "      <th>priority08</th>\n",
       "      <th>priority09</th>\n",
       "      <th>priority10</th>\n",
       "      <th>Location 1</th>\n",
       "      <th>lat</th>\n",
       "      <th>lon</th>\n",
       "      <th>school_dist</th>\n",
       "    </tr>\n",
       "  </thead>\n",
       "  <tbody>\n",
       "    <tr>\n",
       "      <td>5</td>\n",
       "      <td>01M696</td>\n",
       "      <td>BARD HIGH SCHOOL EARLY COLLEGE</td>\n",
       "      <td>130</td>\n",
       "      <td>624.0</td>\n",
       "      <td>604.0</td>\n",
       "      <td>628.0</td>\n",
       "      <td>1856.0</td>\n",
       "      <td>0</td>\n",
       "      <td>129.028846</td>\n",
       "      <td>197.038462</td>\n",
       "      <td>...</td>\n",
       "      <td>0</td>\n",
       "      <td>0</td>\n",
       "      <td>0</td>\n",
       "      <td>0</td>\n",
       "      <td>0</td>\n",
       "      <td>0</td>\n",
       "      <td>525 East Houston Street\\nNew York, NY 10002\\n(...</td>\n",
       "      <td>40.718962</td>\n",
       "      <td>-73.976066</td>\n",
       "      <td>01</td>\n",
       "    </tr>\n",
       "    <tr>\n",
       "      <td>26</td>\n",
       "      <td>02M416</td>\n",
       "      <td>ELEANOR ROOSEVELT HIGH SCHOOL</td>\n",
       "      <td>127</td>\n",
       "      <td>572.0</td>\n",
       "      <td>594.0</td>\n",
       "      <td>592.0</td>\n",
       "      <td>1758.0</td>\n",
       "      <td>Eleanor Roosevelt High School</td>\n",
       "      <td>155.000000</td>\n",
       "      <td>235.000000</td>\n",
       "      <td>...</td>\n",
       "      <td>0</td>\n",
       "      <td>0</td>\n",
       "      <td>0</td>\n",
       "      <td>0</td>\n",
       "      <td>0</td>\n",
       "      <td>0</td>\n",
       "      <td>411 East 76 Street\\nNew York, NY 10021\\n(40.77...</td>\n",
       "      <td>40.770116</td>\n",
       "      <td>-73.953379</td>\n",
       "      <td>02</td>\n",
       "    </tr>\n",
       "    <tr>\n",
       "      <td>60</td>\n",
       "      <td>03M479</td>\n",
       "      <td>BEACON HIGH SCHOOL</td>\n",
       "      <td>261</td>\n",
       "      <td>577.0</td>\n",
       "      <td>575.0</td>\n",
       "      <td>592.0</td>\n",
       "      <td>1744.0</td>\n",
       "      <td>BEACON SCHOOL</td>\n",
       "      <td>166.000000</td>\n",
       "      <td>197.000000</td>\n",
       "      <td>...</td>\n",
       "      <td>0</td>\n",
       "      <td>0</td>\n",
       "      <td>0</td>\n",
       "      <td>0</td>\n",
       "      <td>0</td>\n",
       "      <td>0</td>\n",
       "      <td>227-243 West 61St Street\\nNew York, NY 10023\\n...</td>\n",
       "      <td>40.772158</td>\n",
       "      <td>-73.987797</td>\n",
       "      <td>03</td>\n",
       "    </tr>\n",
       "    <tr>\n",
       "      <td>61</td>\n",
       "      <td>03M485</td>\n",
       "      <td>FIORELLO H. LAGUARDIA HIGH SCHOOL OF MUSIC &amp; A...</td>\n",
       "      <td>531</td>\n",
       "      <td>566.0</td>\n",
       "      <td>564.0</td>\n",
       "      <td>577.0</td>\n",
       "      <td>1707.0</td>\n",
       "      <td>FIORELLO H.LAGUARDIA HS</td>\n",
       "      <td>691.000000</td>\n",
       "      <td>1236.000000</td>\n",
       "      <td>...</td>\n",
       "      <td>0</td>\n",
       "      <td>0</td>\n",
       "      <td>0</td>\n",
       "      <td>0</td>\n",
       "      <td>0</td>\n",
       "      <td>0</td>\n",
       "      <td>100 Amsterdam Avenue\\nNew York, NY 10023\\n(40....</td>\n",
       "      <td>40.773671</td>\n",
       "      <td>-73.985269</td>\n",
       "      <td>03</td>\n",
       "    </tr>\n",
       "    <tr>\n",
       "      <td>302</td>\n",
       "      <td>25Q525</td>\n",
       "      <td>TOWNSEND HARRIS HIGH SCHOOL</td>\n",
       "      <td>278</td>\n",
       "      <td>621.0</td>\n",
       "      <td>651.0</td>\n",
       "      <td>638.0</td>\n",
       "      <td>1910.0</td>\n",
       "      <td>TOWNSEND HARRIS HS</td>\n",
       "      <td>613.000000</td>\n",
       "      <td>796.000000</td>\n",
       "      <td>...</td>\n",
       "      <td>0</td>\n",
       "      <td>0</td>\n",
       "      <td>0</td>\n",
       "      <td>0</td>\n",
       "      <td>0</td>\n",
       "      <td>0</td>\n",
       "      <td>149-11 Melbourne Avenue\\nFlushing, NY 11367\\n(...</td>\n",
       "      <td>40.734408</td>\n",
       "      <td>-73.821417</td>\n",
       "      <td>25</td>\n",
       "    </tr>\n",
       "  </tbody>\n",
       "</table>\n",
       "<p>5 rows × 160 columns</p>\n",
       "</div>"
      ],
      "text/plain": [
       "        DBN                                        SCHOOL NAME  \\\n",
       "5    01M696                     BARD HIGH SCHOOL EARLY COLLEGE   \n",
       "26   02M416                      ELEANOR ROOSEVELT HIGH SCHOOL   \n",
       "60   03M479                                 BEACON HIGH SCHOOL   \n",
       "61   03M485  FIORELLO H. LAGUARDIA HIGH SCHOOL OF MUSIC & A...   \n",
       "302  25Q525                        TOWNSEND HARRIS HIGH SCHOOL   \n",
       "\n",
       "    Num of SAT Test Takers  SAT Critical Reading Avg. Score  \\\n",
       "5                      130                            624.0   \n",
       "26                     127                            572.0   \n",
       "60                     261                            577.0   \n",
       "61                     531                            566.0   \n",
       "302                    278                            621.0   \n",
       "\n",
       "     SAT Math Avg. Score  SAT Writing Avg. Score  sat_score  \\\n",
       "5                  604.0                   628.0     1856.0   \n",
       "26                 594.0                   592.0     1758.0   \n",
       "60                 575.0                   592.0     1744.0   \n",
       "61                 564.0                   577.0     1707.0   \n",
       "302                651.0                   638.0     1910.0   \n",
       "\n",
       "                        SchoolName  AP Test Takers   Total Exams Taken  ...  \\\n",
       "5                                0       129.028846         197.038462  ...   \n",
       "26   Eleanor Roosevelt High School       155.000000         235.000000  ...   \n",
       "60                   BEACON SCHOOL       166.000000         197.000000  ...   \n",
       "61         FIORELLO H.LAGUARDIA HS       691.000000        1236.000000  ...   \n",
       "302             TOWNSEND HARRIS HS       613.000000         796.000000  ...   \n",
       "\n",
       "     priority05 priority06 priority07 priority08  priority09 priority10  \\\n",
       "5             0          0          0          0           0          0   \n",
       "26            0          0          0          0           0          0   \n",
       "60            0          0          0          0           0          0   \n",
       "61            0          0          0          0           0          0   \n",
       "302           0          0          0          0           0          0   \n",
       "\n",
       "                                            Location 1        lat        lon  \\\n",
       "5    525 East Houston Street\\nNew York, NY 10002\\n(...  40.718962 -73.976066   \n",
       "26   411 East 76 Street\\nNew York, NY 10021\\n(40.77...  40.770116 -73.953379   \n",
       "60   227-243 West 61St Street\\nNew York, NY 10023\\n...  40.772158 -73.987797   \n",
       "61   100 Amsterdam Avenue\\nNew York, NY 10023\\n(40....  40.773671 -73.985269   \n",
       "302  149-11 Melbourne Avenue\\nFlushing, NY 11367\\n(...  40.734408 -73.821417   \n",
       "\n",
       "    school_dist  \n",
       "5            01  \n",
       "26           02  \n",
       "60           03  \n",
       "61           03  \n",
       "302          25  \n",
       "\n",
       "[5 rows x 160 columns]"
      ]
     },
     "execution_count": 24,
     "metadata": {},
     "output_type": "execute_result"
    }
   ],
   "source": [
    "# Schools with a female_per greater than 60% and \n",
    "# an average SAT score greater than 1700.\n",
    "combined[(combined['female_per']>60) & \\\n",
    "                           (combined['sat_score']>1700)]\n"
   ]
  },
  {
   "cell_type": "markdown",
   "metadata": {},
   "source": [
    "There are five schools with SAT score average above 1700 and female student percentage higher than 60%. We pulled up the data below about those schools: \n",
    "* Townsend Harris High School is ranked #5 in the National Rankings.\n",
    "* BARD HIGH SCHOOL EARLY COLLEGE #16 in Best Public High Schools in New York\n",
    "* Eleanor Roosevelt High School is ranked #162 in the National Rankings.\n",
    "* Beacon High School is ranked #479 in the National Rankings.\n",
    "* Fiorello H Laguardia High School is ranked #181 in the National Rankings.\n",
    "\n",
    "\n"
   ]
  },
  {
   "cell_type": "markdown",
   "metadata": {},
   "source": [
    "### Advanced Placement (AP) exams and SAT scores"
   ]
  },
  {
   "cell_type": "code",
   "execution_count": 25,
   "metadata": {},
   "outputs": [
    {
     "data": {
      "text/plain": [
       "Text(0.5, 0, \"AP Test Takers' Proportion\")"
      ]
     },
     "execution_count": 25,
     "metadata": {},
     "output_type": "execute_result"
    },
    {
     "data": {
      "image/png": "[encoded data removed]",
      "text/plain": [
       "<Figure size 432x288 with 1 Axes>"
      ]
     },
     "metadata": {
      "needs_background": "light"
     },
     "output_type": "display_data"
    }
   ],
   "source": [
    "#The percentage of students in each school that took an AP exam\n",
    "combined['ap_per']=combined['AP Test Takers ']/combined['total_enrollment']\n",
    "#  A scatter plot of the female percentage vs. the sat_score \n",
    "#  with the regression line\n",
    "sns.regplot(combined['ap_per'],combined['sat_score'])\n",
    "plt.xlabel(\"AP Test Takers' Proportion\")\n",
    "# plt.xticks([], [])"
   ]
  },
  {
   "cell_type": "code",
   "execution_count": 26,
   "metadata": {},
   "outputs": [
    {
     "data": {
      "text/html": [
       "<div>\n",
       "<style scoped>\n",
       "    .dataframe tbody tr th:only-of-type {\n",
       "        vertical-align: middle;\n",
       "    }\n",
       "\n",
       "    .dataframe tbody tr th {\n",
       "        vertical-align: top;\n",
       "    }\n",
       "\n",
       "    .dataframe thead th {\n",
       "        text-align: right;\n",
       "    }\n",
       "</style>\n",
       "<table border=\"1\" class=\"dataframe\">\n",
       "  <thead>\n",
       "    <tr style=\"text-align: right;\">\n",
       "      <th></th>\n",
       "      <th>ap_per</th>\n",
       "      <th>sat_score</th>\n",
       "    </tr>\n",
       "  </thead>\n",
       "  <tbody>\n",
       "    <tr>\n",
       "      <td>ap_per</td>\n",
       "      <td>1.000000</td>\n",
       "      <td>0.057171</td>\n",
       "    </tr>\n",
       "    <tr>\n",
       "      <td>sat_score</td>\n",
       "      <td>0.057171</td>\n",
       "      <td>1.000000</td>\n",
       "    </tr>\n",
       "  </tbody>\n",
       "</table>\n",
       "</div>"
      ],
      "text/plain": [
       "             ap_per  sat_score\n",
       "ap_per     1.000000   0.057171\n",
       "sat_score  0.057171   1.000000"
      ]
     },
     "execution_count": 26,
     "metadata": {},
     "output_type": "execute_result"
    }
   ],
   "source": [
    "# Correlation coefficient between AP Test takers' proportion  and sat_score\n",
    "combined[['ap_per','sat_score']].corr()"
   ]
  },
  {
   "cell_type": "markdown",
   "metadata": {},
   "source": [
    "The correlation coefficient and scatter plot depicting the link between the SAT scores and AP Test takers' proportion numerically and visually are consistent with each other and both suggest the idea that there is no correlation!"
   ]
  },
  {
   "cell_type": "markdown",
   "metadata": {},
   "source": [
    "# Good Schools and Home Prices\n",
    "In this part we will analyze the correlation between average sat score and home prices by zip codes.\n",
    "A dataset which is  available on https://www.kaggle.com/new-york-city/nyc-property-sales will be used. This dataset is a record of every building or building unit (apartment, etc.) sold in the New York City property market over a 12-month period.\n"
   ]
  },
  {
   "cell_type": "code",
   "execution_count": 60,
   "metadata": {},
   "outputs": [
    {
     "data": {
      "text/plain": [
       "Index(['Unnamed: 0', 'BOROUGH', 'NEIGHBORHOOD', 'BUILDING CLASS CATEGORY',\n",
       "       'TAX CLASS AT PRESENT', 'BLOCK', 'LOT', 'EASE-MENT',\n",
       "       'BUILDING CLASS AT PRESENT', 'ADDRESS', 'APARTMENT NUMBER', 'ZIP CODE',\n",
       "       'RESIDENTIAL UNITS', 'COMMERCIAL UNITS', 'TOTAL UNITS',\n",
       "       'LAND SQUARE FEET', 'GROSS SQUARE FEET', 'YEAR BUILT',\n",
       "       'TAX CLASS AT TIME OF SALE', 'BUILDING CLASS AT TIME OF SALE',\n",
       "       'SALE PRICE', 'SALE DATE'],\n",
       "      dtype='object')"
      ]
     },
     "execution_count": 60,
     "metadata": {},
     "output_type": "execute_result"
    }
   ],
   "source": [
    "# Read the dataset into pandas dataframe\n",
    "nyc_home_prices=pd.read_csv('nyc-rolling-sales.csv')\n",
    "nyc_home_prices.columns"
   ]
  },
  {
   "cell_type": "code",
   "execution_count": 62,
   "metadata": {},
   "outputs": [
    {
     "name": "stdout",
     "output_type": "stream",
     "text": [
      "<class 'pandas.core.frame.DataFrame'>\n",
      "RangeIndex: 84548 entries, 0 to 84547\n",
      "Data columns (total 22 columns):\n",
      "Unnamed: 0                        84548 non-null int64\n",
      "BOROUGH                           84548 non-null int64\n",
      "NEIGHBORHOOD                      84548 non-null object\n",
      "BUILDING CLASS CATEGORY           84548 non-null object\n",
      "TAX CLASS AT PRESENT              84548 non-null object\n",
      "BLOCK                             84548 non-null int64\n",
      "LOT                               84548 non-null int64\n",
      "EASE-MENT                         84548 non-null object\n",
      "BUILDING CLASS AT PRESENT         84548 non-null object\n",
      "ADDRESS                           84548 non-null object\n",
      "APARTMENT NUMBER                  84548 non-null object\n",
      "ZIP CODE                          84548 non-null int64\n",
      "RESIDENTIAL UNITS                 84548 non-null int64\n",
      "COMMERCIAL UNITS                  84548 non-null int64\n",
      "TOTAL UNITS                       84548 non-null int64\n",
      "LAND SQUARE FEET                  84548 non-null object\n",
      "GROSS SQUARE FEET                 84548 non-null object\n",
      "YEAR BUILT                        84548 non-null int64\n",
      "TAX CLASS AT TIME OF SALE         84548 non-null int64\n",
      "BUILDING CLASS AT TIME OF SALE    84548 non-null object\n",
      "SALE PRICE                        84548 non-null object\n",
      "SALE DATE                         84548 non-null object\n",
      "dtypes: int64(10), object(12)\n",
      "memory usage: 14.2+ MB\n"
     ]
    }
   ],
   "source": [
    "#Check data\n",
    "nyc_home_prices.info()"
   ]
  },
  {
   "cell_type": "code",
   "execution_count": 63,
   "metadata": {},
   "outputs": [],
   "source": [
    "# Convert 'SALE PRICE' column to numeric data type.\n",
    "nyc_home_prices['SALE PRICE_float']=pd.to_numeric(nyc_home_prices['SALE PRICE'],errors='coerce')"
   ]
  },
  {
   "cell_type": "code",
   "execution_count": 67,
   "metadata": {},
   "outputs": [
    {
     "name": "stdout",
     "output_type": "stream",
     "text": [
      "object\n"
     ]
    }
   ],
   "source": [
    "# Find zipcode of school from coordinates (latitute,longitude)\n",
    "import geopy\n",
    "def get_zipcode(df, geolocator, lat_field, lon_field):\n",
    "    location = geolocator.reverse((df[lat_field], df[lon_field]))\n",
    "    return location.raw['address']['postcode']\n",
    "\n",
    "\n",
    "geolocator = geopy.Nominatim(user_agent='my-application')\n",
    "\n",
    "zipcodes = combined.apply(get_zipcode, axis=1, geolocator=geolocator, lat_field='lat', lon_field='lon')\n"
   ]
  },
  {
   "cell_type": "code",
   "execution_count": 76,
   "metadata": {},
   "outputs": [
    {
     "data": {
      "text/html": [
       "<div>\n",
       "<style scoped>\n",
       "    .dataframe tbody tr th:only-of-type {\n",
       "        vertical-align: middle;\n",
       "    }\n",
       "\n",
       "    .dataframe tbody tr th {\n",
       "        vertical-align: top;\n",
       "    }\n",
       "\n",
       "    .dataframe thead th {\n",
       "        text-align: right;\n",
       "    }\n",
       "</style>\n",
       "<table border=\"1\" class=\"dataframe\">\n",
       "  <thead>\n",
       "    <tr style=\"text-align: right;\">\n",
       "      <th></th>\n",
       "      <th>SCHOOL NAME</th>\n",
       "      <th>zip</th>\n",
       "      <th>zipcodes_from_coor</th>\n",
       "    </tr>\n",
       "  </thead>\n",
       "  <tbody>\n",
       "    <tr>\n",
       "      <td>15</td>\n",
       "      <td>URBAN ASSEMBLY SCHOOL OF BUSINESS FOR YOUNG WO...</td>\n",
       "      <td>10004</td>\n",
       "      <td>10275</td>\n",
       "    </tr>\n",
       "    <tr>\n",
       "      <td>17</td>\n",
       "      <td>NYC ISCHOOL</td>\n",
       "      <td>10013</td>\n",
       "      <td>10005</td>\n",
       "    </tr>\n",
       "    <tr>\n",
       "      <td>48</td>\n",
       "      <td>RICHARD R. GREEN HIGH SCHOOL OF TEACHING</td>\n",
       "      <td>10004</td>\n",
       "      <td>10275</td>\n",
       "    </tr>\n",
       "    <tr>\n",
       "      <td>51</td>\n",
       "      <td>CHELSEA CAREER AND TECHNICAL EDUCATION HIGH SC...</td>\n",
       "      <td>10013</td>\n",
       "      <td>10005</td>\n",
       "    </tr>\n",
       "    <tr>\n",
       "      <td>90</td>\n",
       "      <td>SOUTH BRONX PREPARATORY: A COLLEGE BOARD SCHOOL</td>\n",
       "      <td>10454</td>\n",
       "      <td>10455</td>\n",
       "    </tr>\n",
       "    <tr>\n",
       "      <td>192</td>\n",
       "      <td>BEDFORD ACADEMY HIGH SCHOOL</td>\n",
       "      <td>11216</td>\n",
       "      <td>11226</td>\n",
       "    </tr>\n",
       "    <tr>\n",
       "      <td>196</td>\n",
       "      <td>JUAN MOREL CAMPOS SECONDARY SCHOOL</td>\n",
       "      <td>11206</td>\n",
       "      <td>11211</td>\n",
       "    </tr>\n",
       "    <tr>\n",
       "      <td>200</td>\n",
       "      <td>PROGRESS HIGH SCHOOL FOR PROFESSIONAL CAREERS</td>\n",
       "      <td>11211</td>\n",
       "      <td>11206</td>\n",
       "    </tr>\n",
       "    <tr>\n",
       "      <td>201</td>\n",
       "      <td>SCHOOL FOR LEGAL STUDIES</td>\n",
       "      <td>11211</td>\n",
       "      <td>11206</td>\n",
       "    </tr>\n",
       "    <tr>\n",
       "      <td>202</td>\n",
       "      <td>THE HIGH SCHOOL FOR ENTERPRISE, BUSINESS AND T...</td>\n",
       "      <td>11211</td>\n",
       "      <td>11206</td>\n",
       "    </tr>\n",
       "    <tr>\n",
       "      <td>216</td>\n",
       "      <td>COBBLE HILL SCHOOL OF AMERICAN STUDIES</td>\n",
       "      <td>11201</td>\n",
       "      <td>11217</td>\n",
       "    </tr>\n",
       "    <tr>\n",
       "      <td>238</td>\n",
       "      <td>BROOKLYN GENERATION SCHOOL</td>\n",
       "      <td>11236</td>\n",
       "      <td>11208</td>\n",
       "    </tr>\n",
       "    <tr>\n",
       "      <td>239</td>\n",
       "      <td>BROOKLYN THEATRE ARTS HIGH SCHOOL</td>\n",
       "      <td>11236</td>\n",
       "      <td>11208</td>\n",
       "    </tr>\n",
       "    <tr>\n",
       "      <td>241</td>\n",
       "      <td>VICTORY COLLEGIATE HIGH SCHOOL</td>\n",
       "      <td>11236</td>\n",
       "      <td>11208</td>\n",
       "    </tr>\n",
       "    <tr>\n",
       "      <td>246</td>\n",
       "      <td>ACADEMY FOR CONSERVATION AND THE ENVIRONMENT</td>\n",
       "      <td>11236</td>\n",
       "      <td>11208</td>\n",
       "    </tr>\n",
       "    <tr>\n",
       "      <td>248</td>\n",
       "      <td>EAST NEW YORK FAMILY ACADEMY</td>\n",
       "      <td>11207</td>\n",
       "      <td>11239</td>\n",
       "    </tr>\n",
       "    <tr>\n",
       "      <td>260</td>\n",
       "      <td>NEW UTRECHT HIGH SCHOOL</td>\n",
       "      <td>11214</td>\n",
       "      <td>11228</td>\n",
       "    </tr>\n",
       "    <tr>\n",
       "      <td>265</td>\n",
       "      <td>INTERNATIONAL HIGH SCHOOL AT LAFAYETTE</td>\n",
       "      <td>11214</td>\n",
       "      <td>11223</td>\n",
       "    </tr>\n",
       "    <tr>\n",
       "      <td>267</td>\n",
       "      <td>HIGH SCHOOL OF SPORTS MANAGEMENT</td>\n",
       "      <td>11214</td>\n",
       "      <td>11223</td>\n",
       "    </tr>\n",
       "    <tr>\n",
       "      <td>268</td>\n",
       "      <td>ABRAHAM LINCOLN HIGH SCHOOL</td>\n",
       "      <td>11235</td>\n",
       "      <td>11224</td>\n",
       "    </tr>\n",
       "    <tr>\n",
       "      <td>269</td>\n",
       "      <td>KINGSBOROUGH EARLY COLLEGE SCHOOL</td>\n",
       "      <td>11214</td>\n",
       "      <td>11223</td>\n",
       "    </tr>\n",
       "    <tr>\n",
       "      <td>272</td>\n",
       "      <td>LIFE ACADEMY HIGH SCHOOL FOR FILM AND MUSIC</td>\n",
       "      <td>11214</td>\n",
       "      <td>11223</td>\n",
       "    </tr>\n",
       "    <tr>\n",
       "      <td>273</td>\n",
       "      <td>EXPEDITIONARY LEARNING SCHOOL FOR COMMUNITY LE...</td>\n",
       "      <td>11214</td>\n",
       "      <td>11223</td>\n",
       "    </tr>\n",
       "    <tr>\n",
       "      <td>276</td>\n",
       "      <td>MIDWOOD HIGH SCHOOL</td>\n",
       "      <td>11210</td>\n",
       "      <td>11235</td>\n",
       "    </tr>\n",
       "    <tr>\n",
       "      <td>310</td>\n",
       "      <td>CHANNEL VIEW SCHOOL FOR RESEARCH</td>\n",
       "      <td>11694</td>\n",
       "      <td>11693</td>\n",
       "    </tr>\n",
       "    <tr>\n",
       "      <td>327</td>\n",
       "      <td>QUEENS HIGH SCHOOL FOR THE SCIENCES AT YORK CO...</td>\n",
       "      <td>11433</td>\n",
       "      <td>11451</td>\n",
       "    </tr>\n",
       "    <tr>\n",
       "      <td>340</td>\n",
       "      <td>WILLIAM CULLEN BRYANT HIGH SCHOOL</td>\n",
       "      <td>11103</td>\n",
       "      <td>11377</td>\n",
       "    </tr>\n",
       "  </tbody>\n",
       "</table>\n",
       "</div>"
      ],
      "text/plain": [
       "                                           SCHOOL NAME    zip  \\\n",
       "15   URBAN ASSEMBLY SCHOOL OF BUSINESS FOR YOUNG WO...  10004   \n",
       "17                                         NYC ISCHOOL  10013   \n",
       "48            RICHARD R. GREEN HIGH SCHOOL OF TEACHING  10004   \n",
       "51   CHELSEA CAREER AND TECHNICAL EDUCATION HIGH SC...  10013   \n",
       "90     SOUTH BRONX PREPARATORY: A COLLEGE BOARD SCHOOL  10454   \n",
       "192                        BEDFORD ACADEMY HIGH SCHOOL  11216   \n",
       "196                 JUAN MOREL CAMPOS SECONDARY SCHOOL  11206   \n",
       "200      PROGRESS HIGH SCHOOL FOR PROFESSIONAL CAREERS  11211   \n",
       "201                           SCHOOL FOR LEGAL STUDIES  11211   \n",
       "202  THE HIGH SCHOOL FOR ENTERPRISE, BUSINESS AND T...  11211   \n",
       "216             COBBLE HILL SCHOOL OF AMERICAN STUDIES  11201   \n",
       "238                         BROOKLYN GENERATION SCHOOL  11236   \n",
       "239                  BROOKLYN THEATRE ARTS HIGH SCHOOL  11236   \n",
       "241                     VICTORY COLLEGIATE HIGH SCHOOL  11236   \n",
       "246       ACADEMY FOR CONSERVATION AND THE ENVIRONMENT  11236   \n",
       "248                       EAST NEW YORK FAMILY ACADEMY  11207   \n",
       "260                            NEW UTRECHT HIGH SCHOOL  11214   \n",
       "265             INTERNATIONAL HIGH SCHOOL AT LAFAYETTE  11214   \n",
       "267                   HIGH SCHOOL OF SPORTS MANAGEMENT  11214   \n",
       "268                        ABRAHAM LINCOLN HIGH SCHOOL  11235   \n",
       "269                  KINGSBOROUGH EARLY COLLEGE SCHOOL  11214   \n",
       "272        LIFE ACADEMY HIGH SCHOOL FOR FILM AND MUSIC  11214   \n",
       "273  EXPEDITIONARY LEARNING SCHOOL FOR COMMUNITY LE...  11214   \n",
       "276                                MIDWOOD HIGH SCHOOL  11210   \n",
       "310                   CHANNEL VIEW SCHOOL FOR RESEARCH  11694   \n",
       "327  QUEENS HIGH SCHOOL FOR THE SCIENCES AT YORK CO...  11433   \n",
       "340                  WILLIAM CULLEN BRYANT HIGH SCHOOL  11103   \n",
       "\n",
       "    zipcodes_from_coor  \n",
       "15               10275  \n",
       "17               10005  \n",
       "48               10275  \n",
       "51               10005  \n",
       "90               10455  \n",
       "192              11226  \n",
       "196              11211  \n",
       "200              11206  \n",
       "201              11206  \n",
       "202              11206  \n",
       "216              11217  \n",
       "238              11208  \n",
       "239              11208  \n",
       "241              11208  \n",
       "246              11208  \n",
       "248              11239  \n",
       "260              11228  \n",
       "265              11223  \n",
       "267              11223  \n",
       "268              11224  \n",
       "269              11223  \n",
       "272              11223  \n",
       "273              11223  \n",
       "276              11235  \n",
       "310              11693  \n",
       "327              11451  \n",
       "340              11377  "
      ]
     },
     "execution_count": 76,
     "metadata": {},
     "output_type": "execute_result"
    }
   ],
   "source": [
    "# Verify if the zip column is consistent with the zipcodes obtained from coordinates\n",
    "mask=zipcodes.astype(int)!=combined['zip']\n",
    "mask.sum()\n",
    "combined['zipcodes_from_coor']=zipcodes\n",
    "combined[mask][['SCHOOL NAME','zip','zipcodes_from_coor']]"
   ]
  },
  {
   "cell_type": "markdown",
   "metadata": {},
   "source": [
    "There are 27 mismatches. After a quick search, the zip column of the dataset turned out to be the right zip codes of schools.\n",
    "The coordinates of the schools might be wrong so we decided to use 'zip' codes for our research."
   ]
  },
  {
   "cell_type": "code",
   "execution_count": 79,
   "metadata": {},
   "outputs": [],
   "source": [
    "# We clean 'ZIP CODE' column by eliminating values whose length is different than 5 digits.\n",
    "mask=nyc_home_prices['ZIP CODE'].apply(lambda x: len(str(x))==5)\n",
    "nyc_home_prices=nyc_home_prices[mask]"
   ]
  },
  {
   "cell_type": "code",
   "execution_count": 105,
   "metadata": {},
   "outputs": [
    {
     "data": {
      "text/plain": [
       "34243    1499500.0\n",
       "6502     1499373.0\n",
       "1582     1499000.0\n",
       "1667     1499000.0\n",
       "42859    1499000.0\n",
       "10775    1499000.0\n",
       "31743    1499000.0\n",
       "6980     1498000.0\n",
       "16626    1498000.0\n",
       "49709    1498000.0\n",
       "Name: SALE PRICE_float, dtype: float64"
      ]
     },
     "execution_count": 105,
     "metadata": {},
     "output_type": "execute_result"
    }
   ],
   "source": [
    "# Checking for outliers in SALE PRICE column\n",
    "nyc_home_prices['SALE PRICE_float'].sort_values(ascending=False).head(10)"
   ]
  },
  {
   "cell_type": "code",
   "execution_count": 106,
   "metadata": {},
   "outputs": [],
   "source": [
    "# Remove outliers\n",
    "mask=nyc_home_prices['SALE PRICE_float']< 2.5e+06\n",
    "nyc_home_prices=nyc_home_prices[mask]"
   ]
  },
  {
   "cell_type": "code",
   "execution_count": 108,
   "metadata": {},
   "outputs": [
    {
     "data": {
      "text/plain": [
       "Text(0.5, 0, 'SALE PRICE')"
      ]
     },
     "execution_count": 108,
     "metadata": {},
     "output_type": "execute_result"
    },
    {
     "data": {
      "image/png": "[encoded data removed]",
      "text/plain": [
       "<Figure size 432x288 with 1 Axes>"
      ]
     },
     "metadata": {
      "needs_background": "light"
     },
     "output_type": "display_data"
    }
   ],
   "source": [
    "# With the help of a boxplot, check the data for outliers\n",
    "sns.boxplot(x=nyc_home_prices['SALE PRICE_float'])\n",
    "plt.xlabel('SALE PRICE')"
   ]
  },
  {
   "cell_type": "code",
   "execution_count": 117,
   "metadata": {},
   "outputs": [],
   "source": [
    "# Average home prices by zip codes\n",
    "nyc_home_prices_zip=nyc_home_prices.groupby('ZIP CODE')['SALE PRICE_float'].agg({'Average Home Price':np.mean})\n",
    "nyc_home_prices_zip.reset_index(inplace=True)"
   ]
  },
  {
   "cell_type": "code",
   "execution_count": 120,
   "metadata": {},
   "outputs": [
    {
     "data": {
      "text/html": [
       "<div>\n",
       "<style scoped>\n",
       "    .dataframe tbody tr th:only-of-type {\n",
       "        vertical-align: middle;\n",
       "    }\n",
       "\n",
       "    .dataframe tbody tr th {\n",
       "        vertical-align: top;\n",
       "    }\n",
       "\n",
       "    .dataframe thead th {\n",
       "        text-align: right;\n",
       "    }\n",
       "</style>\n",
       "<table border=\"1\" class=\"dataframe\">\n",
       "  <thead>\n",
       "    <tr style=\"text-align: right;\">\n",
       "      <th></th>\n",
       "      <th>zip</th>\n",
       "      <th>Average SAT Score</th>\n",
       "    </tr>\n",
       "  </thead>\n",
       "  <tbody>\n",
       "    <tr>\n",
       "      <td>0</td>\n",
       "      <td>10002</td>\n",
       "      <td>1306.090909</td>\n",
       "    </tr>\n",
       "    <tr>\n",
       "      <td>1</td>\n",
       "      <td>10003</td>\n",
       "      <td>1232.219403</td>\n",
       "    </tr>\n",
       "    <tr>\n",
       "      <td>2</td>\n",
       "      <td>10004</td>\n",
       "      <td>1287.000000</td>\n",
       "    </tr>\n",
       "    <tr>\n",
       "      <td>3</td>\n",
       "      <td>10006</td>\n",
       "      <td>1303.500000</td>\n",
       "    </tr>\n",
       "    <tr>\n",
       "      <td>4</td>\n",
       "      <td>10009</td>\n",
       "      <td>1149.000000</td>\n",
       "    </tr>\n",
       "    <tr>\n",
       "      <td>...</td>\n",
       "      <td>...</td>\n",
       "      <td>...</td>\n",
       "    </tr>\n",
       "    <tr>\n",
       "      <td>111</td>\n",
       "      <td>11432</td>\n",
       "      <td>1318.073134</td>\n",
       "    </tr>\n",
       "    <tr>\n",
       "      <td>112</td>\n",
       "      <td>11433</td>\n",
       "      <td>1545.719403</td>\n",
       "    </tr>\n",
       "    <tr>\n",
       "      <td>113</td>\n",
       "      <td>11434</td>\n",
       "      <td>1152.000000</td>\n",
       "    </tr>\n",
       "    <tr>\n",
       "      <td>114</td>\n",
       "      <td>11691</td>\n",
       "      <td>1131.666667</td>\n",
       "    </tr>\n",
       "    <tr>\n",
       "      <td>115</td>\n",
       "      <td>11694</td>\n",
       "      <td>1392.000000</td>\n",
       "    </tr>\n",
       "  </tbody>\n",
       "</table>\n",
       "<p>116 rows × 2 columns</p>\n",
       "</div>"
      ],
      "text/plain": [
       "       zip  Average SAT Score\n",
       "0    10002        1306.090909\n",
       "1    10003        1232.219403\n",
       "2    10004        1287.000000\n",
       "3    10006        1303.500000\n",
       "4    10009        1149.000000\n",
       "..     ...                ...\n",
       "111  11432        1318.073134\n",
       "112  11433        1545.719403\n",
       "113  11434        1152.000000\n",
       "114  11691        1131.666667\n",
       "115  11694        1392.000000\n",
       "\n",
       "[116 rows x 2 columns]"
      ]
     },
     "execution_count": 120,
     "metadata": {},
     "output_type": "execute_result"
    }
   ],
   "source": [
    "# Average SAT scores by zip codes\n",
    "school_sat_zip=combined.groupby('zip')['sat_score'].agg({'Average SAT Score':np.mean})\n",
    "school_sat_zip.reset_index(inplace=True)\n",
    "school_sat_zip"
   ]
  },
  {
   "cell_type": "code",
   "execution_count": 119,
   "metadata": {},
   "outputs": [
    {
     "data": {
      "text/html": [
       "<div>\n",
       "<style scoped>\n",
       "    .dataframe tbody tr th:only-of-type {\n",
       "        vertical-align: middle;\n",
       "    }\n",
       "\n",
       "    .dataframe tbody tr th {\n",
       "        vertical-align: top;\n",
       "    }\n",
       "\n",
       "    .dataframe thead th {\n",
       "        text-align: right;\n",
       "    }\n",
       "</style>\n",
       "<table border=\"1\" class=\"dataframe\">\n",
       "  <thead>\n",
       "    <tr style=\"text-align: right;\">\n",
       "      <th></th>\n",
       "      <th>zip</th>\n",
       "      <th>Average Home Price</th>\n",
       "    </tr>\n",
       "  </thead>\n",
       "  <tbody>\n",
       "    <tr>\n",
       "      <td>0</td>\n",
       "      <td>10001</td>\n",
       "      <td>664748.942029</td>\n",
       "    </tr>\n",
       "    <tr>\n",
       "      <td>1</td>\n",
       "      <td>10002</td>\n",
       "      <td>765062.300000</td>\n",
       "    </tr>\n",
       "    <tr>\n",
       "      <td>2</td>\n",
       "      <td>10003</td>\n",
       "      <td>855342.643059</td>\n",
       "    </tr>\n",
       "    <tr>\n",
       "      <td>3</td>\n",
       "      <td>10004</td>\n",
       "      <td>779892.428571</td>\n",
       "    </tr>\n",
       "    <tr>\n",
       "      <td>4</td>\n",
       "      <td>10005</td>\n",
       "      <td>992884.758242</td>\n",
       "    </tr>\n",
       "    <tr>\n",
       "      <td>...</td>\n",
       "      <td>...</td>\n",
       "      <td>...</td>\n",
       "    </tr>\n",
       "    <tr>\n",
       "      <td>177</td>\n",
       "      <td>11436</td>\n",
       "      <td>393493.975410</td>\n",
       "    </tr>\n",
       "    <tr>\n",
       "      <td>178</td>\n",
       "      <td>11691</td>\n",
       "      <td>420586.866667</td>\n",
       "    </tr>\n",
       "    <tr>\n",
       "      <td>179</td>\n",
       "      <td>11692</td>\n",
       "      <td>419986.278261</td>\n",
       "    </tr>\n",
       "    <tr>\n",
       "      <td>180</td>\n",
       "      <td>11693</td>\n",
       "      <td>345358.475248</td>\n",
       "    </tr>\n",
       "    <tr>\n",
       "      <td>181</td>\n",
       "      <td>11694</td>\n",
       "      <td>584808.509091</td>\n",
       "    </tr>\n",
       "  </tbody>\n",
       "</table>\n",
       "<p>182 rows × 2 columns</p>\n",
       "</div>"
      ],
      "text/plain": [
       "       zip  Average Home Price\n",
       "0    10001       664748.942029\n",
       "1    10002       765062.300000\n",
       "2    10003       855342.643059\n",
       "3    10004       779892.428571\n",
       "4    10005       992884.758242\n",
       "..     ...                 ...\n",
       "177  11436       393493.975410\n",
       "178  11691       420586.866667\n",
       "179  11692       419986.278261\n",
       "180  11693       345358.475248\n",
       "181  11694       584808.509091\n",
       "\n",
       "[182 rows x 2 columns]"
      ]
     },
     "execution_count": 119,
     "metadata": {},
     "output_type": "execute_result"
    }
   ],
   "source": [
    "# Prepare datasets for merging on 'zip' column\n",
    "\n",
    "# Change column name to 'zip'\n",
    "nyc_home_prices_zip.rename(columns={'ZIP CODE':'zip'},inplace=True)\n",
    "nyc_home_prices_zip"
   ]
  },
  {
   "cell_type": "code",
   "execution_count": 123,
   "metadata": {},
   "outputs": [
    {
     "data": {
      "text/html": [
       "<div>\n",
       "<style scoped>\n",
       "    .dataframe tbody tr th:only-of-type {\n",
       "        vertical-align: middle;\n",
       "    }\n",
       "\n",
       "    .dataframe tbody tr th {\n",
       "        vertical-align: top;\n",
       "    }\n",
       "\n",
       "    .dataframe thead th {\n",
       "        text-align: right;\n",
       "    }\n",
       "</style>\n",
       "<table border=\"1\" class=\"dataframe\">\n",
       "  <thead>\n",
       "    <tr style=\"text-align: right;\">\n",
       "      <th></th>\n",
       "      <th>zip</th>\n",
       "      <th>Average SAT Score</th>\n",
       "      <th>Average Home Price</th>\n",
       "    </tr>\n",
       "  </thead>\n",
       "  <tbody>\n",
       "    <tr>\n",
       "      <td>0</td>\n",
       "      <td>10002</td>\n",
       "      <td>1306.090909</td>\n",
       "      <td>765062.300000</td>\n",
       "    </tr>\n",
       "    <tr>\n",
       "      <td>1</td>\n",
       "      <td>10003</td>\n",
       "      <td>1232.219403</td>\n",
       "      <td>855342.643059</td>\n",
       "    </tr>\n",
       "    <tr>\n",
       "      <td>2</td>\n",
       "      <td>10004</td>\n",
       "      <td>1287.000000</td>\n",
       "      <td>779892.428571</td>\n",
       "    </tr>\n",
       "    <tr>\n",
       "      <td>3</td>\n",
       "      <td>10006</td>\n",
       "      <td>1303.500000</td>\n",
       "      <td>905068.804348</td>\n",
       "    </tr>\n",
       "    <tr>\n",
       "      <td>4</td>\n",
       "      <td>10009</td>\n",
       "      <td>1149.000000</td>\n",
       "      <td>777514.419355</td>\n",
       "    </tr>\n",
       "    <tr>\n",
       "      <td>...</td>\n",
       "      <td>...</td>\n",
       "      <td>...</td>\n",
       "      <td>...</td>\n",
       "    </tr>\n",
       "    <tr>\n",
       "      <td>111</td>\n",
       "      <td>11432</td>\n",
       "      <td>1318.073134</td>\n",
       "      <td>541105.549383</td>\n",
       "    </tr>\n",
       "    <tr>\n",
       "      <td>112</td>\n",
       "      <td>11433</td>\n",
       "      <td>1545.719403</td>\n",
       "      <td>395448.205047</td>\n",
       "    </tr>\n",
       "    <tr>\n",
       "      <td>113</td>\n",
       "      <td>11434</td>\n",
       "      <td>1152.000000</td>\n",
       "      <td>400513.585635</td>\n",
       "    </tr>\n",
       "    <tr>\n",
       "      <td>114</td>\n",
       "      <td>11691</td>\n",
       "      <td>1131.666667</td>\n",
       "      <td>420586.866667</td>\n",
       "    </tr>\n",
       "    <tr>\n",
       "      <td>115</td>\n",
       "      <td>11694</td>\n",
       "      <td>1392.000000</td>\n",
       "      <td>584808.509091</td>\n",
       "    </tr>\n",
       "  </tbody>\n",
       "</table>\n",
       "<p>116 rows × 3 columns</p>\n",
       "</div>"
      ],
      "text/plain": [
       "       zip  Average SAT Score  Average Home Price\n",
       "0    10002        1306.090909       765062.300000\n",
       "1    10003        1232.219403       855342.643059\n",
       "2    10004        1287.000000       779892.428571\n",
       "3    10006        1303.500000       905068.804348\n",
       "4    10009        1149.000000       777514.419355\n",
       "..     ...                ...                 ...\n",
       "111  11432        1318.073134       541105.549383\n",
       "112  11433        1545.719403       395448.205047\n",
       "113  11434        1152.000000       400513.585635\n",
       "114  11691        1131.666667       420586.866667\n",
       "115  11694        1392.000000       584808.509091\n",
       "\n",
       "[116 rows x 3 columns]"
      ]
     },
     "execution_count": 123,
     "metadata": {},
     "output_type": "execute_result"
    }
   ],
   "source": [
    "# Merge datsets\n",
    "averages_by_zip=pd.merge(school_sat_zip,nyc_home_prices_zip,on='zip',how='inner')\n",
    "averages_by_zip"
   ]
  },
  {
   "cell_type": "code",
   "execution_count": 127,
   "metadata": {},
   "outputs": [
    {
     "data": {
      "text/html": [
       "<div>\n",
       "<style scoped>\n",
       "    .dataframe tbody tr th:only-of-type {\n",
       "        vertical-align: middle;\n",
       "    }\n",
       "\n",
       "    .dataframe tbody tr th {\n",
       "        vertical-align: top;\n",
       "    }\n",
       "\n",
       "    .dataframe thead th {\n",
       "        text-align: right;\n",
       "    }\n",
       "</style>\n",
       "<table border=\"1\" class=\"dataframe\">\n",
       "  <thead>\n",
       "    <tr style=\"text-align: right;\">\n",
       "      <th></th>\n",
       "      <th>Average SAT Score</th>\n",
       "      <th>Average Home Price</th>\n",
       "    </tr>\n",
       "  </thead>\n",
       "  <tbody>\n",
       "    <tr>\n",
       "      <td>Average SAT Score</td>\n",
       "      <td>1.000000</td>\n",
       "      <td>0.378465</td>\n",
       "    </tr>\n",
       "    <tr>\n",
       "      <td>Average Home Price</td>\n",
       "      <td>0.378465</td>\n",
       "      <td>1.000000</td>\n",
       "    </tr>\n",
       "  </tbody>\n",
       "</table>\n",
       "</div>"
      ],
      "text/plain": [
       "                    Average SAT Score  Average Home Price\n",
       "Average SAT Score            1.000000            0.378465\n",
       "Average Home Price           0.378465            1.000000"
      ]
     },
     "execution_count": 127,
     "metadata": {},
     "output_type": "execute_result"
    }
   ],
   "source": [
    "# Correlation between SAT Scores and home prices\n",
    "averages_by_zip[['Average SAT Score','Average Home Price']].corr()"
   ]
  },
  {
   "cell_type": "markdown",
   "metadata": {},
   "source": [
    "The Pearson correlation coefficient r=0.378465 shows a strong positive association.\n",
    "Rich areas can prepare their kids better for the SAT exam."
   ]
  },
  {
   "cell_type": "code",
   "execution_count": 129,
   "metadata": {},
   "outputs": [
    {
     "data": {
      "text/plain": [
       "Text(0.5, 0, 'Average Home Price')"
      ]
     },
     "execution_count": 129,
     "metadata": {},
     "output_type": "execute_result"
    },
    {
     "data": {
      "image/png": "[encoded data removed]",
      "text/plain": [
       "<Figure size 432x288 with 1 Axes>"
      ]
     },
     "metadata": {
      "needs_background": "light"
     },
     "output_type": "display_data"
    }
   ],
   "source": [
    "#  A scatter plot of the average home prices vs. sat_score \n",
    "#  with the regression line\n",
    "sns.regplot(averages_by_zip['Average Home Price'],averages_by_zip['Average SAT Score'])\n",
    "plt.xlabel(\"Average Home Price\")\n",
    "# plt.xticks([], [])"
   ]
  },
  {
   "cell_type": "code",
   "execution_count": 142,
   "metadata": {},
   "outputs": [],
   "source": [
    "# List of best schools with respect to SAT scores in each area\n",
    "comb=combined.sort_values(['zip','sat_score'],ascending=False).groupby('zip').head(1)"
   ]
  },
  {
   "cell_type": "code",
   "execution_count": 144,
   "metadata": {},
   "outputs": [
    {
     "data": {
      "text/html": [
       "<div>\n",
       "<style scoped>\n",
       "    .dataframe tbody tr th:only-of-type {\n",
       "        vertical-align: middle;\n",
       "    }\n",
       "\n",
       "    .dataframe tbody tr th {\n",
       "        vertical-align: top;\n",
       "    }\n",
       "\n",
       "    .dataframe thead th {\n",
       "        text-align: right;\n",
       "    }\n",
       "</style>\n",
       "<table border=\"1\" class=\"dataframe\">\n",
       "  <thead>\n",
       "    <tr style=\"text-align: right;\">\n",
       "      <th></th>\n",
       "      <th>zip</th>\n",
       "      <th>SCHOOL NAME</th>\n",
       "      <th>sat_score</th>\n",
       "      <th>Average Home Price</th>\n",
       "    </tr>\n",
       "  </thead>\n",
       "  <tbody>\n",
       "    <tr>\n",
       "      <td>0</td>\n",
       "      <td>11694</td>\n",
       "      <td>SCHOLARS' ACADEMY</td>\n",
       "      <td>1532.0</td>\n",
       "      <td>584808</td>\n",
       "    </tr>\n",
       "    <tr>\n",
       "      <td>1</td>\n",
       "      <td>11691</td>\n",
       "      <td>QUEENS HIGH SCHOOL FOR INFORMATION, RESEARCH, ...</td>\n",
       "      <td>1156.0</td>\n",
       "      <td>420586</td>\n",
       "    </tr>\n",
       "    <tr>\n",
       "      <td>2</td>\n",
       "      <td>11434</td>\n",
       "      <td>HIGH SCHOOL FOR LAW ENFORCEMENT AND PUBLIC SAFETY</td>\n",
       "      <td>1196.0</td>\n",
       "      <td>400513</td>\n",
       "    </tr>\n",
       "    <tr>\n",
       "      <td>3</td>\n",
       "      <td>11433</td>\n",
       "      <td>QUEENS HIGH SCHOOL FOR THE SCIENCES AT YORK CO...</td>\n",
       "      <td>1868.0</td>\n",
       "      <td>395448</td>\n",
       "    </tr>\n",
       "    <tr>\n",
       "      <td>4</td>\n",
       "      <td>11432</td>\n",
       "      <td>QUEENS GATEWAY TO HEALTH SCIENCES SECONDARY SC...</td>\n",
       "      <td>1538.0</td>\n",
       "      <td>541105</td>\n",
       "    </tr>\n",
       "    <tr>\n",
       "      <td>...</td>\n",
       "      <td>...</td>\n",
       "      <td>...</td>\n",
       "      <td>...</td>\n",
       "      <td>...</td>\n",
       "    </tr>\n",
       "    <tr>\n",
       "      <td>111</td>\n",
       "      <td>10009</td>\n",
       "      <td>EAST SIDE COMMUNITY SCHOOL</td>\n",
       "      <td>1149.0</td>\n",
       "      <td>777514</td>\n",
       "    </tr>\n",
       "    <tr>\n",
       "      <td>112</td>\n",
       "      <td>10006</td>\n",
       "      <td>HIGH SCHOOL OF ECONOMICS AND FINANCE</td>\n",
       "      <td>1374.0</td>\n",
       "      <td>905068</td>\n",
       "    </tr>\n",
       "    <tr>\n",
       "      <td>113</td>\n",
       "      <td>10004</td>\n",
       "      <td>MILLENNIUM HIGH SCHOOL</td>\n",
       "      <td>1614.0</td>\n",
       "      <td>779892</td>\n",
       "    </tr>\n",
       "    <tr>\n",
       "      <td>114</td>\n",
       "      <td>10003</td>\n",
       "      <td>HIGH SCHOOL FOR HEALTH PROFESSIONS AND HUMAN S...</td>\n",
       "      <td>1306.0</td>\n",
       "      <td>855342</td>\n",
       "    </tr>\n",
       "    <tr>\n",
       "      <td>115</td>\n",
       "      <td>10002</td>\n",
       "      <td>BARD HIGH SCHOOL EARLY COLLEGE</td>\n",
       "      <td>1856.0</td>\n",
       "      <td>765062</td>\n",
       "    </tr>\n",
       "  </tbody>\n",
       "</table>\n",
       "<p>116 rows × 4 columns</p>\n",
       "</div>"
      ],
      "text/plain": [
       "       zip                                        SCHOOL NAME  sat_score  \\\n",
       "0    11694                                  SCHOLARS' ACADEMY     1532.0   \n",
       "1    11691  QUEENS HIGH SCHOOL FOR INFORMATION, RESEARCH, ...     1156.0   \n",
       "2    11434  HIGH SCHOOL FOR LAW ENFORCEMENT AND PUBLIC SAFETY     1196.0   \n",
       "3    11433  QUEENS HIGH SCHOOL FOR THE SCIENCES AT YORK CO...     1868.0   \n",
       "4    11432  QUEENS GATEWAY TO HEALTH SCIENCES SECONDARY SC...     1538.0   \n",
       "..     ...                                                ...        ...   \n",
       "111  10009                         EAST SIDE COMMUNITY SCHOOL     1149.0   \n",
       "112  10006               HIGH SCHOOL OF ECONOMICS AND FINANCE     1374.0   \n",
       "113  10004                             MILLENNIUM HIGH SCHOOL     1614.0   \n",
       "114  10003  HIGH SCHOOL FOR HEALTH PROFESSIONS AND HUMAN S...     1306.0   \n",
       "115  10002                     BARD HIGH SCHOOL EARLY COLLEGE     1856.0   \n",
       "\n",
       "     Average Home Price  \n",
       "0                584808  \n",
       "1                420586  \n",
       "2                400513  \n",
       "3                395448  \n",
       "4                541105  \n",
       "..                  ...  \n",
       "111              777514  \n",
       "112              905068  \n",
       "113              779892  \n",
       "114              855342  \n",
       "115              765062  \n",
       "\n",
       "[116 rows x 4 columns]"
      ]
     },
     "execution_count": 144,
     "metadata": {},
     "output_type": "execute_result"
    }
   ],
   "source": [
    "# Merge best schools with average home prices\n",
    "best_schools=comb[['zip','SCHOOL NAME','sat_score','lon','lat']].merge(nyc_home_prices_zip,on='zip',how='inner')\n",
    "best_schools['Average Home Price']=best_schools['Average Home Price'].astype(int)\n",
    "best_schools[['zip','SCHOOL NAME','sat_score','Average Home Price']]"
   ]
  },
  {
   "cell_type": "code",
   "execution_count": 155,
   "metadata": {},
   "outputs": [
    {
     "data": {
      "image/png": "[encoded data removed]",
      "text/plain": [
       "<Figure size 432x288 with 1 Axes>"
      ]
     },
     "metadata": {},
     "output_type": "display_data"
    }
   ],
   "source": [
    "# Map out home prices around best schools \n",
    "import os\n",
    "import matplotlib as mpl\n",
    "os.environ['PROJ_LIB'] = r'C:\\Users\\MIQDAD\\Anaconda3\\pkgs\\proj4-5.2.0-ha925a31_1\\Library\\share'\n",
    "from mpl_toolkits.basemap import Basemap\n",
    "import matplotlib.pyplot as plt\n",
    "\n",
    "m = Basemap(\n",
    "    projection='merc', \n",
    "    llcrnrlat=40.496044, \n",
    "    urcrnrlat=40.915256, \n",
    "    llcrnrlon=-74.255735, \n",
    "    urcrnrlon=-73.700272,\n",
    "    resolution='i'\n",
    ")\n",
    "\n",
    "m.drawmapboundary(fill_color='#85A6D9')\n",
    "m.drawcoastlines(color='#6D5F47', linewidth=.4)\n",
    "m.drawrivers(color='#6D5F47', linewidth=.4)\n",
    "longitudes=best_schools['lon'].tolist()\n",
    "latitudes=best_schools['lat'].tolist()\n",
    "m.scatter(longitudes,latitudes,s=50,zorder=2,latlon=True,\\\n",
    "          c=best_schools['Average Home Price'],cmap=\"summer\") \n",
    "\n",
    "plt.title('Home Prices Around Best Schools')\n",
    "\n",
    "plt.show()"
   ]
  },
  {
   "cell_type": "markdown",
   "metadata": {},
   "source": [
    "Note that yellow points indicate high and green dots denote low home price averages.\n",
    "Nort part of NYC seems to have nice schools with an affordable neighborhood. \n"
   ]
  },
  {
   "cell_type": "markdown",
   "metadata": {},
   "source": [
    "## Conclusions\n",
    "In this project, we analyzed datasets related to NYC High Schools and investigated the correlations between SAT scores and demographics and other elements that may correlate SAT scores with factors like race, gender, income, and more.\n",
    "We employed data visualization tools and summary statistics to see the correlations between the variables.\n",
    "\n",
    "Based on the data and our research, we conclude that:\n",
    "\n",
    "* As the parent and student engagement in school surveys increases so are SAT scores. On the other hand, the number of teacher respondents has weak association.\n",
    "* Safety and respect scores given by students and teaches and their totals are positively linked to SAT Scores. \n",
    "* We observed a positive association between academic expectation scores based on student responds and SAT Scores. But academic expectation scores based on teacher responds and test scores seemed weakly correlated. \n",
    "* By looking at the bar graph of the correlations between SAT Scores and races percentages. On average white and asian students get higher scores on the test than black and hispanic students. The strong negative association with hispanic student percentage is quite salient. \n",
    "* The correlation between the SAT Scores and gender percentages is weak. But we observe a slight positive association between the female proportion and the test scores. It looks like the gender make-up of the school does not play a big role on SAT scores.\n",
    "* There is a strong correlation between exam scores and home prices. This was a quite expected result since money plays an important role for the exam preparation. "
   ]
  },
  {
   "cell_type": "code",
   "execution_count": null,
   "metadata": {},
   "outputs": [],
   "source": []
  }
 ],
 "metadata": {
  "kernelspec": {
   "display_name": "Python 3",
   "language": "python",
   "name": "python3"
  },
  "language_info": {
   "codemirror_mode": {
    "name": "ipython",
    "version": 3
   },
   "file_extension": ".py",
   "mimetype": "text/x-python",
   "name": "python",
   "nbconvert_exporter": "python",
   "pygments_lexer": "ipython3",
   "version": "3.7.4"
  }
 },
 "nbformat": 4,
 "nbformat_minor": 2
}
